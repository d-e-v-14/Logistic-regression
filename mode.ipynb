{
 "cells": [
  {
   "cell_type": "code",
   "execution_count": null,
   "metadata": {
    "vscode": {
     "languageId": "plaintext"
    }
   },
   "outputs": [],
   "source": [
    "#Importing various modules\n",
    "import pandas as pd\n",
    "import numpy as np\n",
    "import matplotlib.pyplot as plt\n",
    "\n",
    "from sklearn.model_selection import train_test_split\n",
    "from sklearn.preprocessing import StandardScaler\n",
    "from sklearn.linear_model import LogisticRegression\n",
    "from sklearn.metrics import accuracy_score, log_loss, classification_report, confusion_matrix\n",
    "\n",
    "import seaborn as sns"
   ]
  },
  {
   "cell_type": "code",
   "execution_count": null,
   "metadata": {
    "vscode": {
     "languageId": "plaintext"
    }
   },
   "outputs": [],
   "source": [
    "data=pd.read_csv(\"data.csv\") #reads the csv file\n",
    "X=data.iloc[:,1:] #leaves out the first column and takes an array of other columns as X\n",
    "y=data.iloc[:,0] #assigns label i.e. the first column as Y\n",
    "\n",
    "scaler=StandardScaler() #a standardizing tool for better results\n",
    "X=scaler.fit_transform(X) #fits the data to unit variance(shows how spread out our data is)"
   ]
  },
  {
   "cell_type": "code",
   "execution_count": null,
   "metadata": {
    "vscode": {
     "languageId": "plaintext"
    }
   },
   "outputs": [],
   "source": [
    "X_train,X_test,y_train,y_test=train_test_split(X,y,test_size=0.2,random_state=42) #training and testing data is divided into 80/20 ratio\n",
    "\n",
    "model=LogisticRegression(max_iter=2059,random_state=52) #loads the model and sets the max iterations for better results\n",
    "model.fit(X_train,y_train)#fits the training dataset into the model"
   ]
  }
 ],
 "metadata": {
  "language_info": {
   "name": "python"
  }
 },
 "nbformat": 4,
 "nbformat_minor": 2
}
